{
 "cells": [
  {
   "cell_type": "markdown",
   "id": "83b1e34d-f068-4d8d-a02c-7d4bd726b97d",
   "metadata": {},
   "source": [
    "<h1>Documentación del Lenguaje Rust</h1> \n",
    "<h3>1. Introducción a Rust</h3>\n",
    "\n",
    "Rust es un lenguaje de programación de sistemas diseñado para ser rápido, seguro y concurrente. Se centra en la seguridad de memoria sin necesidad de un recolector de basura, utilizando un sistema de propiedad y préstamos (ownership & borrowing)."
   ]
  },
  {
   "cell_type": "markdown",
   "id": "568f4dd5-daf0-4138-ae70-9b532913a9f6",
   "metadata": {},
   "source": [
    "<h3>1.1. Características principales</h3>\n",
    "\n",
    "<ul>\n",
    "<li><b>Seguridad de memoria:</b> Previene errores como punteros nulos y desbordamientos de búfer.</li>\n",
    "<li><b>Concurrencia sin condiciones de carrera:</b> Gracias a su sistema de ownership.</li>\n",
    "<li><b>Alto rendimiento:</b> Comparable a C y C++, sin sacrificar seguridad.</li>\n",
    "<li><b>Sin recolección de basura:</b> Control manual de la memoria sin riesgos de fugas.</li>\n",
    "<li><b>Compatibilidad con WebAssembly:</b> Permite desarrollar aplicaciones eficientes para la web.</li>\n",
    "<li><b>Gran ecosistema:</b> Soporte para herramientas como Cargo, Rustfmt, Clippy y Rustdoc.</li>\n",
    "</ul>"
   ]
  },
  {
   "cell_type": "markdown",
   "id": "e279d66a-2826-4596-9313-7f508bd3ce71",
   "metadata": {},
   "source": [
    "<h3>2. Aplicaciones de Rust</h3>\n",
    "\n",
    "Rust se utiliza en una variedad de campos, incluyendo:\n",
    "\n",
    "<ul>\n",
    "<li><b>Sistemas Operativos:</b> Como el desarrollo de Redox OS.</li>\n",
    "<li><b>Desarrollo Web y Backend:</b> Frameworks como Rocket y Actix.</li>\n",
    "<li><b>Seguridad y Criptografía:</b> Rust se usa en herramientas como Firecracker de AWS y tor.</li>\n",
    "<li><b>Videojuegos:</b> Motor gráfico Bevy.</li>\n",
    "<li><b>Desarrollo de Blockchain:</b> Proyectos como Solana están construidos en Rust.</li>\n",
    "</ul>"
   ]
  },
  {
   "cell_type": "markdown",
   "id": "c10fe24b-ff9c-4280-9cb6-15f9d19fe615",
   "metadata": {},
   "source": [
    "<h3>3. Sintaxis Básica</h3>"
   ]
  },
  {
   "cell_type": "markdown",
   "id": "e071a2a7-f216-479f-ae91-4ada67a936e5",
   "metadata": {
    "scrolled": true
   },
   "source": [
    "<h3>3.1. Variables y Mutabilidad</h3>"
   ]
  },
  {
   "cell_type": "markdown",
   "id": "4a71c3c8-111b-40dc-a952-6b80cad2ff5d",
   "metadata": {
    "scrolled": true
   },
   "source": [
    "En Rust, las variables son inmutables por defecto, pero puedes hacerlas mutables utilizando la palabra clave `mut`."
   ]
  },
  {
   "cell_type": "code",
   "execution_count": 105,
   "id": "eeb8046e-281e-4f7c-af80-458d6b7ca187",
   "metadata": {},
   "outputs": [
    {
     "name": "stdout",
     "output_type": "stream",
     "text": [
      "El valor de x es: 5\n",
      "El valor de y es: 15\n"
     ]
    }
   ],
   "source": [
    "let x = 5; // Inmutable\n",
    "println!(\"El valor de x es: {}\", x);\n",
    "\n",
    "let mut y = 10; // Mutable\n",
    "y = 15;\n",
    "println!(\"El valor de y es: {}\", y);"
   ]
  },
  {
   "cell_type": "markdown",
   "id": "dadddb10-bc03-41f2-8279-94f508b412f9",
   "metadata": {},
   "source": [
    "<h3>3.2. Tipos de Datos</h3>"
   ]
  },
  {
   "cell_type": "markdown",
   "id": "907248d4-2ec2-4e84-97c6-6e2cc122ff42",
   "metadata": {},
   "source": [
    "Rust tiene tipos de datos primitivos como enteros, flotantes, booleanos y caracteres."
   ]
  },
  {
   "cell_type": "markdown",
   "id": "76089f19-8bd0-45de-914c-9269abd5dc9b",
   "metadata": {},
   "source": [
    "<b>Enteros</b>"
   ]
  },
  {
   "cell_type": "code",
   "execution_count": 106,
   "id": "b8ae948f-c01a-4c81-9481-fed7f6d66b6d",
   "metadata": {},
   "outputs": [
    {
     "name": "stdout",
     "output_type": "stream",
     "text": [
      "a: 100, b: 1000000000\n"
     ]
    }
   ],
   "source": [
    "let a: i32 = 100;  // Entero de 32 bits con signo\n",
    "let b: u64 = 1000000000;  // Entero de 64 bits sin signo\n",
    "println!(\"a: {}, b: {}\", a,b);  // Imprime: a: 100, b: 1000000000"
   ]
  },
  {
   "cell_type": "markdown",
   "id": "7c788815-394b-454d-bc00-323211018713",
   "metadata": {},
   "source": [
    "<b>Flotantes</b>"
   ]
  },
  {
   "cell_type": "code",
   "execution_count": 107,
   "id": "df1cec73-296a-4f21-9353-f35ae93f02d2",
   "metadata": {},
   "outputs": [
    {
     "name": "stdout",
     "output_type": "stream",
     "text": [
      "pi: 3.14159, approximation: 3.14\n"
     ]
    }
   ],
   "source": [
    "let pi: f64 = 3.14159;  // Flotante de 64 bits\n",
    "let approximation: f32 = 3.14;  // Flotante de 32 bits\n",
    "println!(\"pi: {}, approximation: {}\", pi, approximation);  // Imprime: pi: 3.14159, approximation: 3.14"
   ]
  },
  {
   "cell_type": "markdown",
   "id": "59a6e89d-a3e3-431f-9ce1-79141bc8aac5",
   "metadata": {},
   "source": [
    "<b>Booleanos"
   ]
  },
  {
   "cell_type": "code",
   "execution_count": 108,
   "id": "7441d9ed-3ee9-4196-93e5-f74af0b899cf",
   "metadata": {},
   "outputs": [
    {
     "name": "stdout",
     "output_type": "stream",
     "text": [
      "is_active: true, is_completed: false\n"
     ]
    }
   ],
   "source": [
    "let is_active: bool = true;\n",
    "let is_completed: bool = false;\n",
    "println!(\"is_active: {}, is_completed: {}\", is_active, is_completed);  // Imprime: is_active: true, is_completed: false"
   ]
  },
  {
   "cell_type": "markdown",
   "id": "998023fa-ca10-4d0c-a889-274593e8b894",
   "metadata": {},
   "source": [
    "<b>Caracteres</b>"
   ]
  },
  {
   "cell_type": "code",
   "execution_count": 109,
   "id": "7f6ad220-bb54-4739-a374-516235e7dd0e",
   "metadata": {},
   "outputs": [
    {
     "name": "stdout",
     "output_type": "stream",
     "text": [
      "letter: A\n"
     ]
    }
   ],
   "source": [
    "let letter: char = 'A';  // Un solo carácter Unicode\n",
    "println!(\"letter: {}\", letter);  // Imprime: letter: A"
   ]
  },
  {
   "cell_type": "markdown",
   "id": "5cf0e241-3f60-4e3b-bcd8-3bd54e45e568",
   "metadata": {},
   "source": [
    "<b>Cadenas de texto</b>\n",
    "\n",
    "Las cadenas en Rust son representadas como String (de tamaño variable) o &str (referencia a una cadena estática)."
   ]
  },
  {
   "cell_type": "code",
   "execution_count": 110,
   "id": "d418d210-372c-40bd-a20f-2ef254eb1725",
   "metadata": {},
   "outputs": [
    {
     "name": "stdout",
     "output_type": "stream",
     "text": [
      "greeting: ¡Hola, Mundo!, name: Juan\n"
     ]
    }
   ],
   "source": [
    "let greeting: String = String::from(\"¡Hola, Mundo!\");  // String\n",
    "let name: &str = \"Juan\";  // &str\n",
    "println!(\"greeting: {}, name: {}\", greeting, name);  // Imprime: greeting: ¡Hola, Mundo!, name: Juan"
   ]
  },
  {
   "cell_type": "markdown",
   "id": "c4d927ae-7dbb-4691-8b79-ce9646856052",
   "metadata": {},
   "source": [
    "<h3>3.3. Operadores</h3>\n",
    "\n",
    "Rust admite los operadores aritméticos, de comparación, lógicos y otros operadores comunes."
   ]
  },
  {
   "cell_type": "markdown",
   "id": "4b1d1b91-f4ca-40e8-ba83-5b28dfbc1cdf",
   "metadata": {},
   "source": [
    "<b>Operadores Aritméticos</b>"
   ]
  },
  {
   "cell_type": "code",
   "execution_count": 111,
   "id": "5007e7cf-5899-4d79-affa-719fcc97f90f",
   "metadata": {},
   "outputs": [
    {
     "name": "stdout",
     "output_type": "stream",
     "text": [
      "sum: 15, difference: 10, product: 10, quotient: 5, remainder: 1\n"
     ]
    }
   ],
   "source": [
    "let sum = 5 + 10;  // Suma\n",
    "let difference = 15 - 5;  // Resta\n",
    "let product = 5 * 2;  // Multiplicación\n",
    "let quotient = 10 / 2;  // División\n",
    "let remainder = 10 % 3;  // Módulo\n",
    "println!(\"sum: {}, difference: {}, product: {}, quotient: {}, remainder: {}\", sum, difference, product, quotient, remainder); \n",
    "// Imprime: sum: 15, difference: 10, product: 10, quotient: 5, remainder: 1"
   ]
  },
  {
   "cell_type": "markdown",
   "id": "7d083486-1d2d-40b5-b5df-2c291dffd480",
   "metadata": {},
   "source": [
    "<b>Operadores de Comparación</b>"
   ]
  },
  {
   "cell_type": "code",
   "execution_count": 112,
   "id": "d5e6302f-fd3d-4aca-819c-8b092255ef88",
   "metadata": {},
   "outputs": [
    {
     "name": "stdout",
     "output_type": "stream",
     "text": [
      "greater: false, equal: false\n"
     ]
    }
   ],
   "source": [
    "let x = 5;\n",
    "let y = 10;\n",
    "\n",
    "let greater = x > y;  // Mayor que\n",
    "let equal = x == y;   // Igual a\n",
    "println!(\"greater: {}, equal: {}\", greater, equal); \n",
    "// Imprime: greater: false, equal: false"
   ]
  },
  {
   "cell_type": "markdown",
   "id": "6752fc50-6ce0-4d5e-a454-46d60e1f5be9",
   "metadata": {},
   "source": [
    "<b>Operadores Lógicos</b>"
   ]
  },
  {
   "cell_type": "code",
   "execution_count": 113,
   "id": "1dea696d-d224-40ee-a901-73a722f74e10",
   "metadata": {},
   "outputs": [
    {
     "name": "stdout",
     "output_type": "stream",
     "text": [
      "and: false, or: true, not: false\n"
     ]
    }
   ],
   "source": [
    "let is_true = true;\n",
    "let is_false = false;\n",
    "\n",
    "let and = is_true && is_false;  // AND\n",
    "let or = is_true || is_false;   // OR\n",
    "let not = !is_true;             // NOT\n",
    "\n",
    "println!(\"and: {}, or: {}, not: {}\", and, or, not);  \n",
    "// Imprime: and: false, or: true, not: false"
   ]
  },
  {
   "cell_type": "markdown",
   "id": "077c7413-3316-4163-8a65-d29af03c737a",
   "metadata": {},
   "source": [
    "<h3>3.4 Estructuras de Control</h3>\n",
    "\n",
    "Rust incluye varias estructuras de control comunes, como `if`, `else`, `loop`, `for`, `while` y `match`."
   ]
  },
  {
   "cell_type": "markdown",
   "id": "0a4dd9e7-5d11-47cf-b99a-682047d6a511",
   "metadata": {
    "jp-MarkdownHeadingCollapsed": true
   },
   "source": [
    "<b>Condicional</b> `if`, `else if` y `else`"
   ]
  },
  {
   "cell_type": "code",
   "execution_count": 114,
   "id": "1e3c353d-1d4f-461d-9720-751787ed377f",
   "metadata": {},
   "outputs": [
    {
     "name": "stdout",
     "output_type": "stream",
     "text": [
      "Es igual a 10\n"
     ]
    },
    {
     "data": {
      "text/plain": [
       "()"
      ]
     },
     "execution_count": 114,
     "metadata": {},
     "output_type": "execute_result"
    }
   ],
   "source": [
    "let number = 10;\n",
    "\n",
    "if number < 5 {\n",
    "    println!(\"Menor que 5\");\n",
    "} else if number == 10 {\n",
    "    println!(\"Es igual a 10\");\n",
    "} else {\n",
    "    println!(\"Mayor que 10\");\n",
    "}"
   ]
  },
  {
   "cell_type": "markdown",
   "id": "bd6fdc30-d066-4384-a24f-a5a6f975e8a6",
   "metadata": {
    "jp-MarkdownHeadingCollapsed": true
   },
   "source": [
    "<b>Bucle</b> `loop`\n",
    "\n",
    "Un bucle infinito que puedes usar cuando no sabes cuántas veces necesitarás iterar."
   ]
  },
  {
   "cell_type": "code",
   "execution_count": 115,
   "id": "e0a68e12-2ea8-4c22-84d1-88939fa42497",
   "metadata": {},
   "outputs": [
    {
     "name": "stdout",
     "output_type": "stream",
     "text": [
      "Contador llegó a 5, saliendo del bucle\n"
     ]
    },
    {
     "data": {
      "text/plain": [
       "()"
      ]
     },
     "execution_count": 115,
     "metadata": {},
     "output_type": "execute_result"
    }
   ],
   "source": [
    "let mut counter = 0;\n",
    "\n",
    "loop {\n",
    "    counter += 1;\n",
    "    if counter == 5 {\n",
    "        println!(\"Contador llegó a 5, saliendo del bucle\");\n",
    "        break;\n",
    "    }\n",
    "}"
   ]
  },
  {
   "cell_type": "markdown",
   "id": "80fbd9b9-cce8-4cb7-89b5-281cdfe65ef0",
   "metadata": {
    "jp-MarkdownHeadingCollapsed": true
   },
   "source": [
    "<b>Bucle</b> `for`\n",
    "\n",
    "Itera sobre una secuencia de valores, como rangos o colecciones."
   ]
  },
  {
   "cell_type": "code",
   "execution_count": 116,
   "id": "b137d001-c835-4885-b40d-b5671701f47d",
   "metadata": {},
   "outputs": [
    {
     "name": "stdout",
     "output_type": "stream",
     "text": [
      "i es: 0\n",
      "i es: 1\n",
      "i es: 2\n",
      "i es: 3\n",
      "i es: 4\n"
     ]
    },
    {
     "data": {
      "text/plain": [
       "()"
      ]
     },
     "execution_count": 116,
     "metadata": {},
     "output_type": "execute_result"
    }
   ],
   "source": [
    "for i in 0..5 {  // Rango de 0 a 4\n",
    "    println!(\"i es: {}\", i);\n",
    "}"
   ]
  },
  {
   "cell_type": "markdown",
   "id": "92876bb8-30fc-44ab-abb3-21bca83c0bd6",
   "metadata": {
    "jp-MarkdownHeadingCollapsed": true
   },
   "source": [
    "<b>Bucle</b> `while`\n",
    "\n",
    "Ejecuta el código mientras se cumpla una condición."
   ]
  },
  {
   "cell_type": "code",
   "execution_count": 117,
   "id": "31ba8ec1-39ae-475b-988a-74b28fbffbf6",
   "metadata": {},
   "outputs": [
    {
     "name": "stdout",
     "output_type": "stream",
     "text": [
      "n es: 0\n",
      "n es: 1\n",
      "n es: 2\n",
      "n es: 3\n",
      "n es: 4\n"
     ]
    },
    {
     "data": {
      "text/plain": [
       "()"
      ]
     },
     "execution_count": 117,
     "metadata": {},
     "output_type": "execute_result"
    }
   ],
   "source": [
    "let mut n = 0;\n",
    "\n",
    "while n < 5 {\n",
    "    println!(\"n es: {}\", n);\n",
    "    n += 1;\n",
    "}"
   ]
  },
  {
   "cell_type": "markdown",
   "id": "de956de7-a31e-4a16-87b0-4f506a3992c8",
   "metadata": {
    "jp-MarkdownHeadingCollapsed": true
   },
   "source": [
    "<b>Coincidencia de Patrones</b> `match`\n",
    "\n",
    "El match es similar a un switch en otros lenguajes, pero mucho más poderoso."
   ]
  },
  {
   "cell_type": "code",
   "execution_count": 118,
   "id": "26fbe361-e7f5-4b2a-aa77-911beb9e5b71",
   "metadata": {},
   "outputs": [
    {
     "name": "stdout",
     "output_type": "stream",
     "text": [
      "Otro número\n"
     ]
    },
    {
     "data": {
      "text/plain": [
       "()"
      ]
     },
     "execution_count": 118,
     "metadata": {},
     "output_type": "execute_result"
    }
   ],
   "source": [
    "let number = 13;\n",
    "\n",
    "match number {\n",
    "    1 => println!(\"Uno\"),\n",
    "    2 => println!(\"Dos\"),\n",
    "    3..=12 => println!(\"Entre 3 y 12\"),\n",
    "    _ => println!(\"Otro número\"),\n",
    "}"
   ]
  },
  {
   "cell_type": "markdown",
   "id": "e4e54263-35f3-4503-9034-06eac662354a",
   "metadata": {},
   "source": [
    "<h3>4. Funciones</h3>\n",
    "\n",
    "Las funciones en Rust se definen utilizando la palabra clave fn, seguidas del nombre de la función, parámetros y tipo de retorno (si existe)."
   ]
  },
  {
   "cell_type": "markdown",
   "id": "9c56ffac-e8f6-4683-9cc3-89761b36f5ed",
   "metadata": {},
   "source": [
    "<b>Función Simple</b>"
   ]
  },
  {
   "cell_type": "code",
   "execution_count": 119,
   "id": "5e671bb0-3c68-4e20-bad7-658bf134c020",
   "metadata": {},
   "outputs": [
    {
     "name": "stdout",
     "output_type": "stream",
     "text": [
      "¡Hola, Juan!\n"
     ]
    }
   ],
   "source": [
    "fn greet(name: &str) {\n",
    "    println!(\"¡Hola, {}!\", name);\n",
    "}\n",
    "\n",
    "greet(\"Juan\");"
   ]
  },
  {
   "cell_type": "markdown",
   "id": "6c50d869-88b8-405a-b523-4ec518c10040",
   "metadata": {},
   "source": [
    "<b>Función con Retorno</b>"
   ]
  },
  {
   "cell_type": "code",
   "execution_count": 120,
   "id": "ddc497d5-8790-4c99-aedd-f8a37f3a5a78",
   "metadata": {},
   "outputs": [
    {
     "name": "stdout",
     "output_type": "stream",
     "text": [
      "La suma es: 8\n"
     ]
    }
   ],
   "source": [
    "fn add(x: i32, y: i32) -> i32 {\n",
    "    x + y\n",
    "}\n",
    "\n",
    "let result = add(5, 3);\n",
    "println!(\"La suma es: {}\", result);"
   ]
  },
  {
   "cell_type": "markdown",
   "id": "08730257-50ef-48e9-8c2c-3789185dbe2b",
   "metadata": {},
   "source": [
    "<h3>5. Propiedad y Préstamos (Ownership & Borrowing)</h3>\n",
    "\n",
    "Rust tiene un sistema de manejo de memoria único que garantiza la seguridad sin necesidad de un recolector de basura. Este sistema se basa en tres conceptos clave: <b>propiedad (ownership)</b>, <b>referencias (borrowing)</b> y <b>tiempos de vida (lifetimes)</b>."
   ]
  },
  {
   "cell_type": "markdown",
   "id": "b61f7793-a22a-4a12-8328-d202b36b8d9d",
   "metadata": {},
   "source": [
    "<h3>5.1. Propiedad en Rust</h3>\n",
    "En Rust, cada valor tiene un <b>propietario</b>, que es la variable que lo contiene. Cuando el propietario de un valor sale del alcance, el valor se <b>destruye</b> automáticamente, lo que ayuda a prevenir fugas de memoria. Este comportamiento elimina la necesidad de un recolector de basura.s."
   ]
  },
  {
   "cell_type": "code",
   "execution_count": 121,
   "id": "7ca008e5-9a07-48cc-8c62-6b4dc2a01eae",
   "metadata": {},
   "outputs": [
    {
     "name": "stdout",
     "output_type": "stream",
     "text": [
      "Hola\n"
     ]
    },
    {
     "data": {
      "text/plain": [
       "()"
      ]
     },
     "execution_count": 121,
     "metadata": {},
     "output_type": "execute_result"
    }
   ],
   "source": [
    "fn main() {\n",
    "    let s1 = String::from(\"Hola\");  // s1 es el propietario de la cadena\n",
    "    let s2 = s1;  // El valor de s1 se transfiere a s2, s1 ya no es válido\n",
    "    \n",
    "    // println!(\"{}\", s1);  // Esto causará un error: s1 ya no es válido\n",
    "    println!(\"{}\", s2);  // Imprime: Hola\n",
    "}\n",
    "main()"
   ]
  },
  {
   "cell_type": "markdown",
   "id": "278429ae-f6ed-4daa-8725-4eca5cea21c9",
   "metadata": {},
   "source": [
    "Cuando asignamos `s1` a `s2`, la propiedad de la cadena se transfiere a `s2`.\n",
    "\n",
    "`s1` ya no es válido después de la transferencia de propiedad, lo que evita que se intente acceder a memoria liberada."
   ]
  },
  {
   "cell_type": "markdown",
   "id": "8761fbdd-8570-435d-b88f-d15b1ec2e3d5",
   "metadata": {},
   "source": [
    "<h3>5.2. Referencias (Borrowing)</h3>\n",
    "\n",
    "En lugar de transferir la propiedad, Rust permite \"tomar prestado\" valores mediante referencias. Las referencias permiten acceder a datos sin tomar posesión de ellos, lo que mejora la eficiencia sin sacrificar la seguridad."
   ]
  },
  {
   "cell_type": "markdown",
   "id": "b5f9f747-f41f-450c-87c9-a89fce0cfa70",
   "metadata": {},
   "source": [
    "<ul><li><b>Referencias Inmutables</li></ul>"
   ]
  },
  {
   "cell_type": "code",
   "execution_count": 122,
   "id": "e4c0db4d-65c9-49df-a410-ec05e323b1cb",
   "metadata": {},
   "outputs": [
    {
     "name": "stdout",
     "output_type": "stream",
     "text": [
      "s1: Hola, s2: Hola\n"
     ]
    },
    {
     "data": {
      "text/plain": [
       "()"
      ]
     },
     "execution_count": 122,
     "metadata": {},
     "output_type": "execute_result"
    }
   ],
   "source": [
    "fn main() {\n",
    "    let s1 = String::from(\"Hola\");\n",
    "    let s2 = &s1;  // Referencia inmutable a s1\n",
    "\n",
    "    println!(\"s1: {}, s2: {}\", s1, s2);  // Imprime: s1: Hola, s2: Hola\n",
    "}\n",
    "main()"
   ]
  },
  {
   "cell_type": "markdown",
   "id": "53c2c8ba-374f-47d6-a1e7-ccc54ffdcdce",
   "metadata": {},
   "source": [
    "`s2` es una referencia inmutable a `s1`.\n",
    "\n",
    "Podemos leer el valor de `s1` a través de `s2`, pero no podemos modificarlo mientras se mantenga la referencia inmutable."
   ]
  },
  {
   "cell_type": "markdown",
   "id": "ea13e070-bf32-4b1b-98d2-46f4b42734f6",
   "metadata": {},
   "source": [
    "<ul><li><b>Referencias Mutables</li></ul>"
   ]
  },
  {
   "cell_type": "code",
   "execution_count": 123,
   "id": "9b45e796-1b94-48fb-bc65-6a18974f4557",
   "metadata": {},
   "outputs": [
    {
     "name": "stdout",
     "output_type": "stream",
     "text": [
      "s2: Hola, Mundo\n"
     ]
    },
    {
     "data": {
      "text/plain": [
       "()"
      ]
     },
     "execution_count": 123,
     "metadata": {},
     "output_type": "execute_result"
    }
   ],
   "source": [
    "fn main() {\n",
    "    let mut s1 = String::from(\"Hola\");\n",
    "    let s2 = &mut s1;  // Referencia mutable a s1\n",
    "    \n",
    "    s2.push_str(\", Mundo\");  // Modificamos el valor a través de la referencia mutable\n",
    "\n",
    "    println!(\"s2: {}\", s2);  // Imprime: s2: Hola, Mundo\n",
    "}\n",
    "main()"
   ]
  },
  {
   "cell_type": "markdown",
   "id": "e33939d3-e454-4ee6-b131-1fa747d96557",
   "metadata": {},
   "source": [
    "`s2` es una referencia mutable a `s1`.\n",
    "\n",
    "Solo puede existir una referencia mutable a un valor en un momento dado, lo que garantiza que no haya condiciones de carrera al modificar datos."
   ]
  },
  {
   "cell_type": "markdown",
   "id": "15cd31a2-7198-45af-aab3-6c6759813711",
   "metadata": {},
   "source": [
    "<h4>Reglas de Borrowing</h4>\n",
    "<ul>\n",
    "    <li>Una referencia inmutable permite múltiples lectores, pero no permite modificaciones.</li>\n",
    "    <li>Una referencia mutable permite una única modificación, pero no permite otras referencias, ni inmutables ni mutables.</li>\n",
    "</ul>"
   ]
  },
  {
   "cell_type": "markdown",
   "id": "78eea525-7a42-4234-9940-13fbefa8fec2",
   "metadata": {},
   "source": [
    "<h3>5.3. Tiempos de Vida (Lifetimes)</h3>\n",
    "\n",
    "Los tiempos de vida en Rust son un mecanismo para garantizar que las referencias sean válidas durante su uso. Rust asegura que no se pueda crear una referencia a un valor que haya sido destruido, lo que previene errores comunes de acceso a memoria inválida."
   ]
  },
  {
   "cell_type": "code",
   "execution_count": 124,
   "id": "206bf142-c857-4d1f-9ab2-489d65700caf",
   "metadata": {},
   "outputs": [],
   "source": [
    "fn longest<'a>(s1: &'a str, s2: &'a str) -> &'a str {\n",
    "    if s1.len() > s2.len() {\n",
    "        s1\n",
    "    } else {\n",
    "        s2\n",
    "    }\n",
    "}\n",
    "\n",
    "fn main() {\n",
    "    let string1 = String::from(\"Hola\");\n",
    "    let string2 = String::from(\"Mundo\");\n",
    "\n",
    "    let result = longest(&string1, &string2);\n",
    "    println!(\"La cadena más larga es: {}\", result);  // Imprime: La cadena más larga es: Hola\n",
    "}"
   ]
  },
  {
   "cell_type": "markdown",
   "id": "275dce5e-1f55-4561-9ff4-0935d055f169",
   "metadata": {},
   "source": [
    "`'a` es una anotación de tiempo de vida, que indica que las referencias `s1` y `s2` deben ser válidas al menos tanto tiempo como la referencia devuelta.\n",
    "\n",
    "Rust garantiza que no se devuelvan referencias a valores que ya han sido destruidos."
   ]
  },
  {
   "cell_type": "markdown",
   "id": "45864996-ba78-43bf-94f5-d41bf51e42cb",
   "metadata": {},
   "source": [
    "<h3>6. Manejo de Errores en Rust</h3>\n",
    "\n",
    "Rust tiene un enfoque único para el manejo de errores que evita la necesidad de excepciones tradicionales. En lugar de usar excepciones, Rust hace uso de dos tipos de resultados: <b>`Result`</b> y <b>`Option`</b>. Además, Rust distingue entre errores <b>recuperables</b> e <b>irrecuperables</b>, brindando herramientas claras para manejar ambos tipos.\n"
   ]
  },
  {
   "cell_type": "markdown",
   "id": "8a2f29fa-a482-4758-87cc-cabda8b87596",
   "metadata": {},
   "source": [
    "<h3>6.1. Errores Recuperables e Irrecuperables</h3>\n",
    "\n",
    "<ul>\n",
    "    <li><b>Errores recuperables:</b> Son errores que pueden ser gestionados adecuadamente por el programa. Por ejemplo, un intento de abrir un archivo que no existe. El programa puede intentar manejar este error, como pidiendo al usuario que ingrese otro archivo o creando el archivo.</li>\n",
    "    <li><b>Errores irrecuperables:</b> Son errores que el programa no puede manejar de forma segura, como intentar dividir entre cero o acceder a memoria inválida. Estos errores generalmente causan la terminación del programa.</li>\n",
    "\n",
    "</ul>\n"
   ]
  },
  {
   "cell_type": "markdown",
   "id": "849e2cf4-ad66-482e-b63a-e9c1bde12615",
   "metadata": {},
   "source": [
    "<h3>6.2. El Tipo 'Result'</h3>\n",
    "\n",
    "El tipo `Result` es utilizado para manejar errores recuperables. Este tipo puede ser `Ok` o `Err`, donde `Ok` representa un resultado exitoso, y `Err` representa un error.\n"
   ]
  },
  {
   "cell_type": "code",
   "execution_count": 125,
   "id": "c4ca8daf-ee20-4d1d-b24b-bc16ff3b93d4",
   "metadata": {},
   "outputs": [
    {
     "name": "stdout",
     "output_type": "stream",
     "text": [
      "Error: No se puede dividir entre cero\n"
     ]
    },
    {
     "data": {
      "text/plain": [
       "()"
      ]
     },
     "execution_count": 125,
     "metadata": {},
     "output_type": "execute_result"
    }
   ],
   "source": [
    "fn division(a: i32, b: i32) -> Result<i32, String> {\n",
    "    if b == 0 {\n",
    "        Err(String::from(\"No se puede dividir entre cero\"))\n",
    "    } else {\n",
    "        Ok(a / b)\n",
    "    }\n",
    "}\n",
    "\n",
    "fn main() {\n",
    "    let result = division(10, 0);\n",
    "    match result {\n",
    "        Ok(value) => println!(\"El resultado es: {}\", value),  // Imprime: El resultado es:\n",
    "        Err(e) => println!(\"Error: {}\", e),  // En caso de error\n",
    "    }\n",
    "}\n",
    "main()"
   ]
  },
  {
   "cell_type": "markdown",
   "id": "701e74ac-bea4-428d-a49b-4a55d4a259ce",
   "metadata": {},
   "source": [
    "La función `division` retorna un `Result<i32, String>`, donde `i32` es el tipo del valor exitoso y `String` es el tipo del error.\n",
    "\n",
    "Si `b` es cero, se retorna un `Err`, de lo contrario, se retorna un `Ok` con el resultado de la división.\n",
    "\n",
    "En el `main`, usamos un `match` para manejar tanto el caso de éxito (`Ok`) como el de error (`Err`)."
   ]
  },
  {
   "cell_type": "markdown",
   "id": "52695ca1-d2e9-4b38-a25f-2658c1587c48",
   "metadata": {},
   "source": [
    "<h3>6.3 Propagación de Errores con '?'</h3>\n",
    "\n",
    "Rust permite la propagación de errores de manera sencilla usando el operador `?`. Este operador retorna el error inmediatamente si es `Err`, o desenvuelve el valor si es `Ok`."
   ]
  },
  {
   "cell_type": "code",
   "execution_count": 126,
   "id": "67125ff2-0069-4ee6-b45b-7c83c3750a33",
   "metadata": {},
   "outputs": [
    {
     "data": {
      "text/plain": [
       "Err(\"No se puede dividir entre cero\")"
      ]
     },
     "execution_count": 126,
     "metadata": {},
     "output_type": "execute_result"
    }
   ],
   "source": [
    "fn division(a: i32, b: i32) -> Result<i32, String> {\n",
    "    if b == 0 {\n",
    "        Err(String::from(\"No se puede dividir entre cero\"))\n",
    "    } else {\n",
    "        Ok(a / b)\n",
    "    }\n",
    "}\n",
    "\n",
    "fn main() -> Result<(), String> {\n",
    "    let result = division(10, 0)?;\n",
    "    println!(\"El resultado es: {}\", result); \n",
    "    Ok(())\n",
    "}\n",
    "main()"
   ]
  },
  {
   "cell_type": "markdown",
   "id": "83fa8a98-da87-49d1-b4e5-63e803ade29a",
   "metadata": {},
   "source": [
    "Usamos `?` para propagar el error de la función `division` si hay un problema. Si no hay error, el valor se desenvuelve y continúa con el flujo de ejecución."
   ]
  },
  {
   "cell_type": "markdown",
   "id": "6a66cb2c-bb13-4395-a5fe-3394ac20e707",
   "metadata": {},
   "source": [
    "<h3>6.4 El Tipo 'Option'</h3>\n",
    "\n",
    "El tipo Option es utilizado para representar valores que pueden estar presentes o no. Es útil para errores que no necesariamente son fallos, sino la ausencia de un valor, como cuando no se encuentra un elemento en una lista.\n",
    "\n",
    "<ul>\n",
    "    <li><b>Some(T)</b> representa que el valor está presente.</li>\n",
    "    <li><b>None</b> representa la ausencia de un valor.</li>\n",
    "</ul>"
   ]
  },
  {
   "cell_type": "code",
   "execution_count": 127,
   "id": "591d1ffc-9364-4095-9a1e-2ad9e51d7ec2",
   "metadata": {},
   "outputs": [
    {
     "name": "stdout",
     "output_type": "stream",
     "text": [
      "Elemento encontrado: 3\n"
     ]
    },
    {
     "data": {
      "text/plain": [
       "()"
      ]
     },
     "execution_count": 127,
     "metadata": {},
     "output_type": "execute_result"
    }
   ],
   "source": [
    "fn encontrar_elemento(vec: Vec<i32>, valor: i32) -> Option<i32> {\n",
    "    for &x in &vec {\n",
    "        if x == valor {\n",
    "            return Some(x);\n",
    "        }\n",
    "    }\n",
    "    None\n",
    "}\n",
    "\n",
    "fn main() {\n",
    "    let numeros = vec![1, 2, 3, 4, 5];\n",
    "    match encontrar_elemento(numeros, 3) {\n",
    "        Some(valor) => println!(\"Elemento encontrado: {}\", valor),  // Imprime: Elemento encontrado: 3\n",
    "        None => println!(\"Elemento no encontrado\"),  // En caso de no encontrarlo\n",
    "    }\n",
    "}\n",
    "main()"
   ]
  },
  {
   "cell_type": "markdown",
   "id": "0801afaa-9afe-490c-bae9-7580c1e3e0b8",
   "metadata": {},
   "source": [
    "La función `encontrar_elemento` busca un valor en un vector. Si lo encuentra, retorna `Some(valor)`, de lo contrario retorna `None`.\n",
    "En el `main`, usamos un `match` para manejar ambos casos: encontrar el valor (`Some`) o no encontrarlo (`None`)."
   ]
  },
  {
   "cell_type": "markdown",
   "id": "9872c9ba-a332-4cbc-ab4e-71a39aa2327b",
   "metadata": {},
   "source": [
    "<h3>6.5 Manejo de Excepciones</h3>\n",
    "\n",
    "En Rust, no existen excepciones tradicionales como en otros lenguajes. En lugar de eso, se usa el tipo `Result` para manejar errores y el tipo `Option` para manejar la ausencia de valores.\n",
    "\n",
    "Si bien no hay excepciones, el manejo de errores con `Result` y `Option` permite un control explícito y más seguro sobre los errores, ya que obliga al programador a manejar los casos de error de manera consciente."
   ]
  },
  {
   "cell_type": "code",
   "execution_count": 128,
   "id": "a1706e6a-57d3-4701-9352-86b646036321",
   "metadata": {},
   "outputs": [
    {
     "data": {
      "text/plain": [
       "Err(Os { code: 2, kind: NotFound, message: \"El sistema no puede encontrar el archivo especificado.\" })"
      ]
     },
     "execution_count": 128,
     "metadata": {},
     "output_type": "execute_result"
    }
   ],
   "source": [
    "fn lectura_archivo(ruta: &str) -> Result<String, std::io::Error> {\n",
    "    use std::fs::File;\n",
    "    use std::io::{self, Read};\n",
    "\n",
    "    let mut archivo = File::open(ruta)?;\n",
    "    let mut contenido = String::new();\n",
    "    archivo.read_to_string(&mut contenido)?;\n",
    "    Ok(contenido)\n",
    "}\n",
    "\n",
    "fn main() -> Result<(), std::io::Error> {\n",
    "    let archivo_contenido = lectura_archivo(\"archivo.txt\")?;\n",
    "    println!(\"Contenido del archivo: {}\", archivo_contenido);  // Imprime el contenido del archivo si existe\n",
    "    Ok(())\n",
    "}\n",
    "main()"
   ]
  },
  {
   "cell_type": "markdown",
   "id": "adc48769-aec8-4d21-a42a-b38aca953078",
   "metadata": {},
   "source": [
    "La función `lectura_archivo` abre un archivo y lee su contenido. Si hay algún error en el proceso (por ejemplo, si el archivo no existe), se devuelve un `Err`.\n",
    "\n",
    "Usamos `?` para propagar cualquier error que ocurra al abrir el archivo o leerlo."
   ]
  },
  {
   "cell_type": "markdown",
   "id": "a0af0f84-e715-4bf0-ab41-9d373768dea0",
   "metadata": {},
   "source": [
    "<h3>7. Programación Orientada a Objetos y Funcional en Rust</h3>\n",
    "\n",
    "Rust ofrece un enfoque híbrido que combina características de programación orientada a objetos y programación funcional. Esto se logra a través del uso de <b>rasgos (traits)</b>, <b>estructuras</b>, y <b>herencia</b> en el paradigma orientado a objetos, así como características funcionales como <b>closures</b>, <b>iteradores</b>, y <b>combinadores</b>."
   ]
  },
  {
   "cell_type": "markdown",
   "id": "592e3eed-302e-49ce-b47b-fe508fe3a226",
   "metadata": {},
   "source": [
    "<h3>7.1. Programación Orientada a Objetos en Rust</h3>\n",
    "<ul><li><b>Estructuras (struct) en Rust:</b> las estructuras (<b>struct</b>) son tipos de datos personalizados que agrupan múltiples valores bajo un mismo nombre.</li></ul>\n"
   ]
  },
  {
   "cell_type": "code",
   "execution_count": 129,
   "id": "fd135cbb-638d-4bc6-bbd6-5f630b652490",
   "metadata": {},
   "outputs": [
    {
     "name": "stdout",
     "output_type": "stream",
     "text": [
      "Nombre: Carlos, Edad: 30\n"
     ]
    },
    {
     "data": {
      "text/plain": [
       "()"
      ]
     },
     "execution_count": 129,
     "metadata": {},
     "output_type": "execute_result"
    }
   ],
   "source": [
    "struct Persona {\n",
    "    nombre: String,\n",
    "    edad: u32,\n",
    "}\n",
    "fn main() {\n",
    "    let persona = Persona {\n",
    "        nombre: String::from(\"Carlos\"),\n",
    "        edad: 30,\n",
    "    };\n",
    "    println!(\"Nombre: {}, Edad: {}\", persona.nombre, persona.edad);\n",
    "}\n",
    "main()"
   ]
  },
  {
   "cell_type": "markdown",
   "id": "b8936a0d-635b-4f08-9c25-9d03e2eecfa6",
   "metadata": {},
   "source": [
    "`Persona` es una estructura que tiene dos campos: `nombre` de tipo `String` y `edad` de tipo `u32`.\n",
    "\n",
    "Creamos una instancia de `Persona` llamada `persona` y accedemos a sus campos usando `persona.nombre` y `persona.edad`."
   ]
  },
  {
   "cell_type": "markdown",
   "id": "516a726e-7383-434f-aeb9-e196e5d1141f",
   "metadata": {},
   "source": [
    "<ul><li><b>Rasgos (Traits) en Rust:</b> Los rasgos (<b>traits</b>) son una forma de definir comportamientos compartidos entre diferentes tipos. Los rasgos son similares a las interfaces en otros lenguajes, y se utilizan para especificar métodos que un tipo debe implementar.</li></ul>"
   ]
  },
  {
   "cell_type": "code",
   "execution_count": 130,
   "id": "6fd51ecb-d3af-4f64-8a13-09ffb133f2d1",
   "metadata": {},
   "outputs": [
    {
     "name": "stdout",
     "output_type": "stream",
     "text": [
      "Soy Carlos y tengo 30 años.\n"
     ]
    },
    {
     "data": {
      "text/plain": [
       "()"
      ]
     },
     "execution_count": 130,
     "metadata": {},
     "output_type": "execute_result"
    }
   ],
   "source": [
    "// Definimos un rasgo `Describir`\n",
    "trait Describir {\n",
    "    fn describir(&self) -> String;\n",
    "}\n",
    "\n",
    "// Implementamos el rasgo para la estructura `Persona`\n",
    "impl Describir for Persona {\n",
    "    fn describir(&self) -> String {\n",
    "        format!(\"Soy {} y tengo {} años.\", self.nombre, self.edad)\n",
    "    }\n",
    "}\n",
    "\n",
    "fn main() {\n",
    "    let persona = Persona {\n",
    "        nombre: String::from(\"Carlos\"),\n",
    "        edad: 30,\n",
    "    };\n",
    "    \n",
    "    println!(\"{}\", persona.describir());  // Imprime: Soy Carlos y tengo 30 años.\n",
    "}\n",
    "main()"
   ]
  },
  {
   "cell_type": "markdown",
   "id": "36de1fc1-9573-4c76-aa11-f04752f477b9",
   "metadata": {},
   "source": [
    "Definimos el rasgo `Describir`, que tiene un método `describir` que devuelve un `String`.\n",
    "\n",
    "Implementamos este rasgo para la estructura `Persona`, proporcionando una implementación para el método `describir`.\n",
    "\n",
    "En el `main`, creamos una instancia de `Persona` y llamamos al método `describir`, que devuelve una cadena con la descripción de la persona."
   ]
  },
  {
   "cell_type": "markdown",
   "id": "bcf98e06-4747-4da7-85bc-052fdc22a7ce",
   "metadata": {},
   "source": [
    "<ul><li><b>Herencia en Rust:</b> Rust no tiene herencia como otros lenguajes orientados a objetos, pero permite <b>composición</b> de tipos mediante el uso de <b>rasgos y estructuras</b>. Un tipo puede implementar múltiples rasgos, y mediante la composición, se pueden lograr comportamientos similares a los de la herencia.</li></ul>\n"
   ]
  },
  {
   "cell_type": "code",
   "execution_count": 131,
   "id": "bebf996f-3f4b-46de-94cb-26af34dee8a3",
   "metadata": {},
   "outputs": [
    {
     "name": "stdout",
     "output_type": "stream",
     "text": [
      "Firulais dice: ¡Guau!\n"
     ]
    },
    {
     "data": {
      "text/plain": [
       "()"
      ]
     },
     "execution_count": 131,
     "metadata": {},
     "output_type": "execute_result"
    }
   ],
   "source": [
    "trait HacerRuido {\n",
    "    fn hacer_ruido(&self);\n",
    "}\n",
    "\n",
    "struct Perro {\n",
    "    nombre: String,\n",
    "}\n",
    "\n",
    "impl HacerRuido for Perro {\n",
    "    fn hacer_ruido(&self) {\n",
    "        println!(\"{} dice: ¡Guau!\", self.nombre);\n",
    "    }\n",
    "}\n",
    "\n",
    "fn main() {\n",
    "    let perro = Perro {\n",
    "        nombre: String::from(\"Firulais\"),\n",
    "    };\n",
    "    \n",
    "    perro.hacer_ruido();  // Imprime: Fido dice: ¡Guau!\n",
    "}\n",
    "main()"
   ]
  },
  {
   "cell_type": "markdown",
   "id": "f8237eea-3e5a-428b-9173-74e9b7191fbb",
   "metadata": {},
   "source": [
    "Creamos un rasgo `HacerRuido` que tiene un método `hacer_ruido`.\n",
    "\n",
    "Implementamos este rasgo para la estructura `Perro`, que no necesita heredar de ninguna clase base.\n",
    "\n",
    "En el `main`, creamos una instancia de `Perro` y llamamos al método `hacer_ruido`."
   ]
  },
  {
   "cell_type": "markdown",
   "id": "70124133-3ce1-4dad-8311-ed2a09ff38a9",
   "metadata": {},
   "source": [
    "<h3>Programación Funcional en Rust</h3>\n",
    "\n",
    "Rust también tiene poderosas características funcionales, como closures, iteradores y combinadores."
   ]
  },
  {
   "cell_type": "markdown",
   "id": "8f5fc011-9a42-4d72-9eb7-af5adc35d168",
   "metadata": {},
   "source": [
    "<ul><li><b>Closures:</b> Las closures en Rust son funciones anónimas que pueden capturar su entorno (es decir, pueden acceder a las variables que están en su contexto).</li></ul>"
   ]
  },
  {
   "cell_type": "code",
   "execution_count": 132,
   "id": "61a9a857-bce8-4f48-a694-6d09147f3b25",
   "metadata": {},
   "outputs": [
    {
     "name": "stdout",
     "output_type": "stream",
     "text": [
      "Resultado de la closure: 9\n"
     ]
    },
    {
     "data": {
      "text/plain": [
       "()"
      ]
     },
     "execution_count": 132,
     "metadata": {},
     "output_type": "execute_result"
    }
   ],
   "source": [
    "fn main() {\n",
    "    let x = 4;\n",
    "    let cierre = |y| x + y;  // Closure que captura `x`\n",
    "\n",
    "    println!(\"Resultado de la closure: {}\", cierre(5));  // Imprime: Resultado de la closure: 9\n",
    "}\n",
    "main()"
   ]
  },
  {
   "cell_type": "markdown",
   "id": "38ab416a-9a04-4f9e-9349-bfcf7cc33a56",
   "metadata": {},
   "source": [
    "Definimos una closure `cierre` que toma un parámetro `y` y devuelve la suma de `x` y `y`.\n",
    "La closure captura la variable `x` del entorno y la utiliza en su cálculo."
   ]
  },
  {
   "cell_type": "markdown",
   "id": "d55dd2d3-c418-44b2-a0ea-fca259472dbf",
   "metadata": {},
   "source": [
    "<ul><li><b>Iteradores:</b> Los iteradores permiten recorrer secuencias de datos de forma eficiente. Rust tiene una poderosa API de iteradores que permite realizar operaciones como filtrado, mapeo y reducción.</li></ul>"
   ]
  },
  {
   "cell_type": "code",
   "execution_count": 133,
   "id": "b77baeae-d00a-47d5-890e-ecf5686a96ba",
   "metadata": {},
   "outputs": [
    {
     "name": "stdout",
     "output_type": "stream",
     "text": [
      "Números multiplicados por 2: [2, 4, 6, 8, 10]\n"
     ]
    },
    {
     "data": {
      "text/plain": [
       "()"
      ]
     },
     "execution_count": 133,
     "metadata": {},
     "output_type": "execute_result"
    }
   ],
   "source": [
    "fn main() {\n",
    "    let numeros = vec![1, 2, 3, 4, 5];\n",
    "    \n",
    "    let resultado: Vec<i32> = numeros.into_iter()\n",
    "        .map(|x| x * 2)\n",
    "        .collect();\n",
    "        \n",
    "    println!(\"Números multiplicados por 2: {:?}\", resultado);  // Imprime: Números multiplicados por 2: [2, 4, 6, 8, 10]\n",
    "}\n",
    "main()"
   ]
  },
  {
   "cell_type": "markdown",
   "id": "ff748868-606a-4bf2-975e-48667acf4d35",
   "metadata": {},
   "source": [
    "Usamos el método `map` para multiplicar cada elemento del vector por 2.\n",
    "\n",
    "El método `collect` recopila los resultados de la iteración en un nuevo vector."
   ]
  },
  {
   "cell_type": "markdown",
   "id": "19100103-1fc3-4360-a5c8-9f7598684a2d",
   "metadata": {},
   "source": [
    "<ul><li><b>Combinadores:</b> Los combinadores son métodos en Rust que se aplican a valores de tipo <b>Option</b> o <b>Result</b> para realizar operaciones sobre ellos de manera funcional. Ejemplos comunes incluyen <b>map</b>, <b>and_then</b>, y <b>filter</b>.</li></ul>"
   ]
  },
  {
   "cell_type": "code",
   "execution_count": 134,
   "id": "5fd06034-087b-441f-95ef-73741db841b0",
   "metadata": {},
   "outputs": [
    {
     "name": "stdout",
     "output_type": "stream",
     "text": [
      "Resultado: 20\n"
     ]
    },
    {
     "data": {
      "text/plain": [
       "()"
      ]
     },
     "execution_count": 134,
     "metadata": {},
     "output_type": "execute_result"
    }
   ],
   "source": [
    "fn main() {\n",
    "    let numero: Option<i32> = Some(10);\n",
    "    \n",
    "    let resultado = numero\n",
    "        .map(|x| x * 2)\n",
    "        .filter(|&x| x > 10);\n",
    "    \n",
    "    match resultado {\n",
    "        Some(val) => println!(\"Resultado: {}\", val),  // Imprime: Resultado: 20\n",
    "        None => println!(\"No hay resultado\"),\n",
    "    }\n",
    "}\n",
    "main()"
   ]
  },
  {
   "cell_type": "markdown",
   "id": "6d42d531-0f54-4bc3-956d-68e6a018442d",
   "metadata": {},
   "source": [
    "Usamos `map` para multiplicar el valor dentro de `Option` por 2.\n",
    "\n",
    "Luego usamos `filter` para asegurarnos de que el valor sea mayor que 10.\n",
    "\n",
    "Finalmente, hacemos un `match` para imprimir el resultado o un mensaje si no existe un valor."
   ]
  },
  {
   "cell_type": "code",
   "execution_count": null,
   "id": "837ce77b-99ae-4708-ba0d-7c4c7376cfe8",
   "metadata": {},
   "outputs": [],
   "source": []
  },
  {
   "cell_type": "code",
   "execution_count": null,
   "id": "290a0ff1-4f99-4f37-8d93-6d30e46bbda8",
   "metadata": {},
   "outputs": [],
   "source": []
  },
  {
   "cell_type": "code",
   "execution_count": null,
   "id": "0ced75f7-9ab2-41b2-899a-694099c9543c",
   "metadata": {},
   "outputs": [],
   "source": []
  }
 ],
 "metadata": {
  "kernelspec": {
   "display_name": "Rust",
   "language": "rust",
   "name": "rust"
  },
  "language_info": {
   "codemirror_mode": "rust",
   "file_extension": ".rs",
   "mimetype": "text/rust",
   "name": "Rust",
   "pygment_lexer": "rust",
   "version": ""
  }
 },
 "nbformat": 4,
 "nbformat_minor": 5
}
