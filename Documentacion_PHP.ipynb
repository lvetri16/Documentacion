{
 "cells": [
  {
   "cell_type": "markdown",
   "id": "639ff050",
   "metadata": {},
   "source": [
    "# Documentación Completa de PHP\n",
    "\n",
    "## 1. Introducción a PHP\n",
    "\n",
    "PHP (Hypertext Preprocessor) es un lenguaje de programación del lado del servidor diseñado principalmente para el desarrollo web. Es ampliamente utilizado en aplicaciones dinámicas, integración con bases de datos y generación de contenido HTML.\n",
    "\n",
    "### Características principales de PHP:\n",
    "- Código embebido en HTML.\n",
    "- Soporte para múltiples bases de datos (MySQL, PostgreSQL, SQLite, etc.).\n",
    "- Manejo eficiente de formularios y sesiones.\n",
    "- Gran variedad de funciones predefinidas para manipulación de datos.\n",
    "- Compatibilidad con múltiples servidores web (Apache, Nginx, IIS, etc.).\n"
   ]
  },
  {
   "cell_type": "markdown",
   "id": "d0ed4b8d",
   "metadata": {},
   "source": [
    "## 2. Sintaxis Básica\n",
    "\n",
    "PHP utiliza una sintaxis basada en C y Perl. Su código se escribe entre las etiquetas `<?php ... ?>`.\n",
    "\n",
    "Un script PHP puede contener variables, estructuras de control, funciones, clases y más. Es importante recordar que PHP es sensible a mayúsculas y minúsculas en los nombres de variables pero no en los nombres de funciones."
   ]
  },
  {
   "cell_type": "markdown",
   "id": "c4cd8bc3",
   "metadata": {},
   "source": [
    "## 3. Variables, Tipos de Datos y Operadores\n",
    "\n",
    "Las variables en PHP se definen con el prefijo `$` y no requieren una declaración explícita de tipo.\n",
    "\n",
    "### Tipos de datos en PHP:\n",
    "- **Enteros (`int`)**: Números enteros positivos o negativos.\n",
    "- **Flotantes (`float`)**: Números con punto decimal.\n",
    "- **Cadenas (`string`)**: Texto.\n",
    "- **Booleanos (`bool`)**: Valores `true` o `false`.\n",
    "- **Arrays (`array`)**: Colecciones de valores.\n",
    "- **Objetos (`object`)**: Instancias de clases.\n",
    "- **NULL**: Representa una variable sin valor."
   ]
  },
  {
   "cell_type": "markdown",
   "id": "e6003044",
   "metadata": {},
   "source": [
    "## 4. Estructuras de Control (Condicionales y Bucles)\n",
    "\n",
    "PHP permite controlar el flujo del programa mediante condicionales (`if`, `else`, `switch`) y bucles (`while`, `for`, `foreach`)."
   ]
  },
  {
   "cell_type": "markdown",
   "id": "80c46fe3",
   "metadata": {},
   "source": [
    "## 5. Funciones en PHP\n",
    "\n",
    "Las funciones en PHP permiten reutilizar código y mejorar la organización.\n",
    "\n",
    "### Características de las funciones en PHP:\n",
    "- Se definen con la palabra clave `function`.\n",
    "- Pueden aceptar parámetros.\n",
    "- Pueden retornar valores con `return`.\n",
    "- Se pueden definir funciones con valores predeterminados para los parámetros."
   ]
  },
  {
   "cell_type": "markdown",
   "id": "b7a6096e",
   "metadata": {},
   "source": [
    "## 6. Programación Orientada a Objetos (POO)\n",
    "\n",
    "PHP soporta la programación orientada a objetos, permitiendo la creación de clases y objetos.\n",
    "\n",
    "### Características de POO en PHP:\n",
    "- **Clases y objetos**: Una clase define una estructura, un objeto es una instancia de esa clase.\n",
    "- **Herencia**: Permite que una clase hija herede métodos y propiedades de una clase padre.\n",
    "- **Polimorfismo**: Métodos pueden sobrescribirse en clases derivadas.\n",
    "- **Encapsulación**: Controla la visibilidad de propiedades y métodos."
   ]
  },
  {
   "cell_type": "markdown",
   "id": "144a5357",
   "metadata": {},
   "source": [
    "## 7. Manejo de Excepciones\n",
    "\n",
    "Las excepciones en PHP se manejan con `try`, `catch` y `throw`, permitiendo capturar y manejar errores en el código.\n",
    "\n",
    "### Manejo de excepciones:\n",
    "- `try`: Bloque donde puede ocurrir un error.\n",
    "- `catch`: Captura y maneja la excepción.\n",
    "- `throw`: Lanza una nueva excepción."
   ]
  },
  {
   "cell_type": "markdown",
   "id": "eb3f7da1",
   "metadata": {},
   "source": [
    "## 8. Bases de Datos en PHP\n",
    "\n",
    "PHP permite interactuar con bases de datos como MySQL y PostgreSQL.\n",
    "\n",
    "### Pasos para conectarse a una base de datos:\n",
    "1. Establecer una conexión con `mysqli` o `PDO`.\n",
    "2. Ejecutar consultas SQL (`SELECT`, `INSERT`, `UPDATE`, `DELETE`).\n",
    "3. Recuperar resultados y cerrar la conexión."
   ]
  },
  {
   "cell_type": "markdown",
   "id": "cd0ea3d0",
   "metadata": {},
   "source": [
    "# Ejemplo de Uso de Variables y Tipos de Datos"
   ]
  },
  {
   "cell_type": "code",
   "execution_count": null,
   "id": "f7fdbfdf",
   "metadata": {},
   "outputs": [],
   "source": [
    "<?php\n",
    "$nombre = 'Carlos';\n",
    "$edad = 30;\n",
    "$altura = 1.75;\n",
    "$es_mayor = $edad > 18;\n",
    "echo \"Nombre: $nombre, Edad: $edad, Altura: $altura m, Mayor de edad: \" . ($es_mayor ? 'Sí' : 'No');\n",
    "?>"
   ]
  },
  {
   "cell_type": "markdown",
   "id": "589b3066",
   "metadata": {},
   "source": [
    "# Ejemplo de Uso de Bucles"
   ]
  },
  {
   "cell_type": "code",
   "execution_count": null,
   "id": "34950bdd",
   "metadata": {},
   "outputs": [],
   "source": [
    "<?php\n",
    "for ($i = 0; $i < 5; $i++) {\n",
    "    echo \"Número: $i \\n\";\n",
    "}\n",
    "?>"
   ]
  },
  {
   "cell_type": "markdown",
   "id": "d4fb70ce",
   "metadata": {},
   "source": [
    "# Ejemplo de Función con Parámetros y Retorno"
   ]
  },
  {
   "cell_type": "code",
   "execution_count": null,
   "id": "8ada1e5a",
   "metadata": {},
   "outputs": [],
   "source": [
    "<?php\n",
    "function calcular_area($base, $altura) {\n",
    "    return ($base * $altura) / 2;\n",
    "}\n",
    "echo calcular_area(5, 10);\n",
    "?>"
   ]
  },
  {
   "cell_type": "markdown",
   "id": "41cef838",
   "metadata": {},
   "source": [
    "# Ejemplo de Conexión a Base de Datos y Consulta"
   ]
  },
  {
   "cell_type": "code",
   "execution_count": null,
   "id": "366328d8",
   "metadata": {},
   "outputs": [],
   "source": [
    "<?php\n",
    "$conn = new mysqli('localhost', 'root', '', 'mi_db');\n",
    "if ($conn->connect_error) die('Error de conexión: ' . $conn->connect_error);\n",
    "$sql = 'SELECT * FROM usuarios';\n",
    "$resultado = $conn->query($sql);\n",
    "while ($fila = $resultado->fetch_assoc()) {\n",
    "    echo $fila['nombre'] . '\\n';\n",
    "}\n",
    "$conn->close();\n",
    "?>"
   ]
  }
 ],
 "metadata": {},
 "nbformat": 4,
 "nbformat_minor": 5
}
