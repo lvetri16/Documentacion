{
 "cells": [
  {
   "cell_type": "markdown",
   "id": "64bf8dc7",
   "metadata": {},
   "source": [
    "# Documentación de bases de datos"
   ]
  },
  {
   "cell_type": "markdown",
   "id": "ef93b131",
   "metadata": {
    "slideshow": {
     "slide_type": "-"
    }
   },
   "source": [
    "Las bases de datos son cúmulos organizados de datos estructurados y relacionados pertenecientes a un mismo contexto o entidad, dispuestos de forma tal que su recuperación y procesamiento posterior sea óptima.  Las bases de datos son gestionadas principalmente con sistemas informáticos; los programas que se especializan en su manejo se les llama sistemas de gestión de bases de datos (o gestores, manejadores)."
   ]
  },
  {
   "cell_type": "markdown",
   "id": "e84b7b41",
   "metadata": {},
   "source": [
    "## Modelos (de bases) de datos"
   ]
  },
  {
   "cell_type": "markdown",
   "id": "82f34574",
   "metadata": {},
   "source": [
    "El modelo teórico más conocido sobre las bases de datos es el modelo relacional.  También hay otros modelos, como el jerárquico, el de redes, el de grafos, el orientado a objetos, clave-valor, entre otros."
   ]
  },
  {
   "cell_type": "markdown",
   "id": "f238e1d8",
   "metadata": {},
   "source": [
    "### Relacional"
   ]
  },
  {
   "cell_type": "markdown",
   "id": "fd482087",
   "metadata": {},
   "source": [
    "En el se define un conjunto de elementos con los mismos tipos de atributos como una relación matemática entre todos los atributos de un mismo elemento, donde cada atributo diferente pertenece a un dominio de datos diferente (un conjunto con restricciones); los elementos se modelan como tuplas.  En este sentido, los elementos de la relación se puede decir que son del mismo tipo, aunque los valores de sus atributos varíen.  Los datos, que son los atributos en principio, quedan relacionados por pertenecer al mismo elemento, o por pertenecer al mismo dominio de datos (esto es, valores distintos que representan la misma propiedad en diferentes elementos).\n",
    "\n",
    "En una simplificación, se puede ver a las relaciones como tablas, donde sus filas o registros son los elementos, y cada una de las celdas son los atributos de ellas, que a su vez pertenecen a una columna, la cual determina el tipo de dato del valor almacenado para cada registro dado."
   ]
  },
  {
   "cell_type": "markdown",
   "id": "0b240fdb",
   "metadata": {},
   "source": [
    "En el modelo relacional, las relaciones se pueden \"extender\" al indicar referencias entre filas de tablas distintas; al unir las filas relacionadas, se pueden construir filas extendidas con los atributos de las relaciones implicadas.  Este enfoque se utiliza también en el otro sentido, donde los datos relacionados con una misma entidad se separan en relaciones distintas para evitar la duplicación e inconsistencia de los datos.\n",
    "\n",
    "Además, el enfoque teórico altamente abstracto permite tanto una independencia en la forma particular de almacenamiento de los datos como una garantía de integridad de que los datos se ajustan a una cierta estructura."
   ]
  },
  {
   "cell_type": "markdown",
   "id": "d189697b",
   "metadata": {},
   "source": [
    "### Navegacional"
   ]
  },
  {
   "cell_type": "markdown",
   "id": "b88bfe5b",
   "metadata": {},
   "source": [
    "En estos modelos, los datos están relacionados a través de referencias directas entre unos y otros, y se recuperan \"navegando\" por las referencias para llegar desde un datos particular hasta otro relacionado.  Las referencias pueden representar distintos tipos de relación, como contenedor-contenido, por ejemplo.  Estos modelos son muy directos en la forma en que se almacena la información físicamente.\n",
    "\n",
    "Difieren del modelo relacional particularmente, en términos técnicos, en que las relaciones entre estructuras de datos se presentan como referencias \"físicas\" y directas, en lugar de relaciones matemáticas o lógicas entre alguno de sus atributos.  Por esta razón, estos modelos son más eficientes al acceder a elementos relacionados en diversos casos, pero son menos abstractos y menos flexibles en el establecimiento de relaciones."
   ]
  },
  {
   "cell_type": "markdown",
   "id": "8fbb3d47",
   "metadata": {},
   "source": [
    "#### Jerárquico"
   ]
  },
  {
   "cell_type": "markdown",
   "id": "d5fb927a",
   "metadata": {},
   "source": [
    "Los datos son almacenados en una estructura de árbol, donde partiendo de un nodo o dato raíz, se puede llegar a los datos \"contenidos\" o \"descendientes\" de la raíz, y los descendientes de ellos sucesivamente, creando una jerarquía de grupos de datos anidados.  Frecuentemente se distingue entre los datos \"hoja\", que no tienen más elementos subordinados sino solo el contenido de sí mismos, y los demás datos que contienen elementos de la base de datos subordinados.  Se pueden proveer \"rutas\" o \"caminos\" para llegar a un dato dado desde la raíz.  Su consulta es bastante procedimental.\n",
    "\n",
    "Los sistemas de archivos son un buen ejemplo de este modelo, donde hay un directorio (o carpeta, volúmen) raíz dentro del cual se pueden guardar archivos o más directorios con más archivos, y así sucesivamente."
   ]
  },
  {
   "cell_type": "markdown",
   "id": "fdef22e0",
   "metadata": {},
   "source": [
    "#### De red"
   ]
  },
  {
   "cell_type": "markdown",
   "id": "56c224ff",
   "metadata": {},
   "source": [
    "Es una extensión del modelo jerárquico, donde los nodos pueden tener varios predecesores, formando una estructura de grafo.  Aún así, por razones históricas, se le llama así específicamente a un modelo donde se conservan las relaciones padre-hijo y donde los datos deben pertenecer a un cierto dominio (ser de cierto tipo) para poder ser descendientes de un nodo dado."
   ]
  },
  {
   "cell_type": "markdown",
   "id": "a325a284",
   "metadata": {},
   "source": [
    "#### Nota..."
   ]
  },
  {
   "cell_type": "markdown",
   "id": "e683e895",
   "metadata": {},
   "source": [
    "Es relevante resaltar que los descendientes de un nodo no tienen que ser todos del mismo tipo; por ejemplo, una factura pudiera ser un nodo raíz, que tiene líneas de productos comprados, pero también tiene información de la companía vendedora, fecha, etc.  Esos atributos \"pertenecen\" a la factura y como tal son nodos descendientes de la factura; se pueden almacenar referencias desde los atributos hasta su padre, así como desde el padre hasta cada descendiente, y estos pueden tener distinto tipo.  Así mismo, las líneas pueden tener productos, precios y cantidades como descendientes, por ejemplo.\n",
    "\n",
    "Siguiendo el modelo de red, se podría decir que pueden haber facturas de distintas compañías pero una compañía también puede emitir varias facturas, por lo que las compañías pueden ser hijos de varias facturas.  También se pudiera decir lo opuesto, que las facturas son hijos de las compañías, pero debe definirse de una sola forma en estos modelos de datos."
   ]
  },
  {
   "cell_type": "markdown",
   "id": "829a8633",
   "metadata": {},
   "source": [
    "### De grafos"
   ]
  },
  {
   "cell_type": "markdown",
   "id": "423e52b6",
   "metadata": {},
   "source": [
    "Los datos se almacenan en una estructura de grafo como el modelo de red, con la diferencia conceptual de que las relaciones padre-hijo no están presentes; esto permite una organización más flexible de los datos.  Además, aparte de las referencias directas entre vértices (o nodos), también se permiten referenciar vértices directamente por identificadores únicos y buscar a través de índices; una diferencia más práctica/técnica que teórica.  Las aristas, que representan las relaciones, también pueden tener sus propios atributos.\n",
    "\n",
    "Este modelo es apropiado para representar redes de cualquier tipo, como redes sociales o calles de una ciudad."
   ]
  },
  {
   "cell_type": "markdown",
   "id": "32ffc5ab",
   "metadata": {},
   "source": [
    "### Clave-valor"
   ]
  },
  {
   "cell_type": "markdown",
   "id": "5ec0b282",
   "metadata": {},
   "source": [
    "Es un modelo sencillo donde se le asigna a cada dato individual un identificador único con el que puede ser referenciado.  La simplicidad de este modelo y la existencia de estructuras de datos eficientes que lo implementan permiten que se pueda obtener un alto rendiemiento para operaciones de búsqueda por clave e inserción, en comparación con modelos más complejos.  Además, es completamente válido, por algún medio, anidar el modelo dentro de sí, formando una especie de jerarquía lógica, diferente de la \"física\" del modelo jerárquico."
   ]
  },
  {
   "cell_type": "markdown",
   "id": "d27b60d1",
   "metadata": {},
   "source": [
    "### Columnar"
   ]
  },
  {
   "cell_type": "markdown",
   "id": "a0f40939",
   "metadata": {},
   "source": [
    "Este modelo es como una versión flexible del relacional, pero con diferencias marcadas.  Los datos se agrupan primero por columnas y no por filas, las columnas se almacenan independientemente y luego se agrupan en familias de columnas para servir como orígenes de datos de los atributos de las entidades representadas por las familias.  Cada elemento en una columna se almacena también con una clave asociada, que permite relacionar los elementos en distinas columnas con la misma clave como pertenecientes a una misma entidad (o fila, según el modelo relacional); sin embargo no todos las claves y por tanto no todas las entidades tienen que estar presentes en todas las columnas de la familia.  Esta relación parcial o no estricta permite que el sistema sea más flexible en el manejo de los datos, porque no todos los elementos tienen que seguir un esquema o tipado estricto.\n",
    "\n",
    "La disposición tiene ventajas principalmente técnicas como que las búsquedas secuenciales son más rápidas porque solo atraviesan una columna, las modificaciones de las estructuras de datos de las entidades son más simples porque añadir una columna no requiere \"rellenar las filas existentes\" y está mejor posicionado para ofrecer mayor escalabilidad."
   ]
  },
  {
   "cell_type": "markdown",
   "id": "8713ef72",
   "metadata": {},
   "source": [
    "### Orientado a objetos"
   ]
  },
  {
   "cell_type": "markdown",
   "id": "d2cfab82",
   "metadata": {},
   "source": [
    "Es similar al relacional en varios aspectos en términos prácticos, aunque no teóricos.  El fundamento radica en que los datos se almacenan en estructuras llamadas objetos, que tienen propiedades que pueden ser datos simples u objetos a su vez; estos objetos pueden tener propiedades ocultas, y métodos de tratamiento de sus datos.  Los objetos de propiedades del mismo tipo y con la misma estructura se organizan en clases de objetos, las cuales se pueden extender para definir objetos con atributos y métodos adicionales que pertenecen a una subclase, formando así una jerarquía de tipos.\n",
    "\n",
    "El punto más llamativo es que el modelo es exactamente el mismo que el de los lenguajes de programación orientados a objetos y como tal ofrecen el nivel más alto de integración entre éstos y los almacenes de datos y sistemas de gestión con que trabajan."
   ]
  },
  {
   "cell_type": "markdown",
   "id": "93aedd2a",
   "metadata": {},
   "source": [
    "## Sistemas de gestión de bases de datos"
   ]
  },
  {
   "cell_type": "markdown",
   "id": "63620948",
   "metadata": {},
   "source": [
    "Hay diversos sistemas de gestión de bases de datos, con diferentes características y metas.  Algunos trabajan con un modelo cliente/servidor, otros son utilidades o bibliotecas.  Muchos están diseñados entorno a un modelo de datos particular, pero algunos trabajan con múltiples modelos.\n",
    "\n",
    "Aquí se presentan dos implementaciones con modelos (principalmente) relacionales y dos con modelos no relacionales."
   ]
  },
  {
   "cell_type": "markdown",
   "id": "41f29363",
   "metadata": {},
   "source": [
    "### Relacionales"
   ]
  },
  {
   "cell_type": "markdown",
   "id": "abcfba6f",
   "metadata": {},
   "source": [
    "Éstos son los más comunes.  Además, existe un lenguaje estándar para comunicarle las operaciones de manejo de datos, definiciones, actualizaciones y consultas, que es tan usado e implementado que es sinónimo, en la práctica, de bases de datos y modelos relacionales; es SQL (Structured Query Languaje, o Lenguaje Estructurado de Consulta)."
   ]
  },
  {
   "cell_type": "markdown",
   "id": "0e26dd9c",
   "metadata": {},
   "source": [
    "#### SQL"
   ]
  },
  {
   "cell_type": "markdown",
   "id": "196016bc",
   "metadata": {},
   "source": [
    "Como las funciones de estos sistemas están principalmente organizadas entorno a la implementación del estándar de SQL, es relevante describir su estructura y así percibir el funcionamiento común entre estos sistemas.  Sin embargo, es importante destacar que, a pesar de ser un estándar, sus implementaciones comunmente se desvían de él en algunos aspectos y no son 100% compatibles unas con otras."
   ]
  },
  {
   "cell_type": "markdown",
   "id": "a79f590f",
   "metadata": {},
   "source": [
    "##### Tipos de sentencias"
   ]
  },
  {
   "cell_type": "markdown",
   "id": "0d15e560",
   "metadata": {},
   "source": [
    "- Definición de datos\n",
    "  - CREATE TABLE\n",
    "  - DROP TABLE\n",
    "  - ALTER TABLE\n",
    "  - CREATE VIEW\n",
    "  - CREATE FUNCTION\n",
    "- Manipulación de datos\n",
    "  - INSERT\n",
    "  - UPDATE\n",
    "  - DELETE\n",
    "- Consultas\n",
    "  - SELECT\n",
    "- Administrativas y de gestión\n",
    "  - SET\n",
    "  - START TRANSACTION\n",
    "  - COMMIT\n",
    "  - ROLLBACK"
   ]
  },
  {
   "cell_type": "markdown",
   "id": "0654c6d7",
   "metadata": {},
   "source": [
    "##### Tipos de datos"
   ]
  },
  {
   "cell_type": "code",
   "execution_count": 6,
   "id": "820701e3",
   "metadata": {},
   "outputs": [
    {
     "data": {
      "text/plain": [
       "(1, 2, 3)"
      ]
     },
     "execution_count": 6,
     "metadata": {},
     "output_type": "execute_result"
    }
   ],
   "source": [
    "import sqlite3 as sql\n",
    "\n",
    "# conexion = sql.connect(\"base-de-datos.db\", autocommit=False)  # Para una base de datos en el disco\n",
    "conexion = sql.connect(\":memory:\", autocommit=False)  # Para una base de datos almacenada solo en memoria\n",
    "\n",
    "conexion.execute(\"SELECT 1, 2, 3;\").fetchone()  # Enteros (INTEGER)"
   ]
  },
  {
   "cell_type": "code",
   "execution_count": 7,
   "id": "2f222542",
   "metadata": {},
   "outputs": [
    {
     "data": {
      "text/plain": [
       "(1.1, 2.2, 3.3)"
      ]
     },
     "execution_count": 7,
     "metadata": {},
     "output_type": "execute_result"
    }
   ],
   "source": [
    "conexion.execute(\"SELECT 1.1, 2.2, 3.3;\").fetchone()  # Punto flotante (REAL)"
   ]
  },
  {
   "cell_type": "code",
   "execution_count": 9,
   "id": "f9e1e63b",
   "metadata": {},
   "outputs": [
    {
     "data": {
      "text/plain": [
       "('Cadena de texto',)"
      ]
     },
     "execution_count": 9,
     "metadata": {},
     "output_type": "execute_result"
    }
   ],
   "source": [
    "conexion.execute(\"SELECT 'Cadena de texto';\").fetchone()  # TEXT\n",
    "# También hay CHAR(tamaño) y VARCHAR(tamaño), pero SQLite no hace diferencia"
   ]
  },
  {
   "cell_type": "code",
   "execution_count": 11,
   "id": "2a7dbdf3",
   "metadata": {},
   "outputs": [
    {
     "data": {
      "text/plain": [
       "(b'\\xb1\\x0b',)"
      ]
     },
     "execution_count": 11,
     "metadata": {},
     "output_type": "execute_result"
    }
   ],
   "source": [
    "conexion.execute(\"SELECT x'B10B';\").fetchone()  # BLOB, en hexadecimal"
   ]
  },
  {
   "cell_type": "code",
   "execution_count": 12,
   "id": "fee279fd",
   "metadata": {},
   "outputs": [
    {
     "data": {
      "text/plain": [
       "(None,)"
      ]
     },
     "execution_count": 12,
     "metadata": {},
     "output_type": "execute_result"
    }
   ],
   "source": [
    "conexion.execute(\"SELECT NULL;\").fetchone() # Nulo (NULL), en SQLite;\n",
    "                                            # en el estándar eso es un valor de cualquier tipo"
   ]
  },
  {
   "cell_type": "markdown",
   "id": "e891451d",
   "metadata": {},
   "source": [
    "Adicionalmente existen los tipos (que no tienen soporte en SQLite):\n",
    "- DECIMAL(precisión, escala)\n",
    "- TIME\n",
    "- DATE\n",
    "- TIMESTAMP\n",
    "- TIMESTAMP WITH TIME ZONE\n",
    "- BOOLEAN"
   ]
  },
  {
   "cell_type": "code",
   "execution_count": 14,
   "id": "42c2d1cd",
   "metadata": {},
   "outputs": [
    {
     "name": "stdout",
     "output_type": "stream",
     "text": [
      "[('dos',)]\n",
      "[(1, 'UNO'), (2, 'dos'), (3, 'tres')]\n",
      "[(3, 'tres')]\n",
      "[(3, 'tres', 0.1)]\n"
     ]
    }
   ],
   "source": [
    "# Se utilizan comillas simples para escribir cadenas de texto y comillas dobles\n",
    "# para entrecomillar identificadores.  Los identificadores no tienen que ser\n",
    "# entrecomillados si están compuestos de una letra o piso (_) seguido de letras,\n",
    "# pisos y números.  Hay una diferencia en comportamiento con respecto a la distinción\n",
    "# de mayúsculas si se entrecomilla un identificador o no.\n",
    "\n",
    "# Los números pueden llevar punto (.) como separador decimal y la letra E/e para\n",
    "# indicar exponente, para literales de punto flotante.\n",
    "\n",
    "# Los booleanos son las constantes TRUE/true y FALSE/false.\n",
    "\n",
    "# Los demás tipos se tienen que convertir desde representaciones textuales.\n",
    "\n",
    "# Un ejemplo de trabajo con SQL\n",
    "\n",
    "# Para reejcutar...\n",
    "try:\n",
    "    conexion.execute(\"DROP TABLE \\\"nueva_tabla\\\";\")\n",
    "except sql.Error:\n",
    "    pass\n",
    "\n",
    "# Definición de tabla\n",
    "conexion.execute(\"CREATE TABLE \\\"nueva_tabla\\\" (num INTEGER, text VARCHAR(255));\")\n",
    "\n",
    "# Inserción de datos\n",
    "conexion.execute(\"INSERT INTO nueva_tabla VALUES (1, 'uno'), (2, 'dos'), (3, 'tres');\")\n",
    "\n",
    "# Consulta\n",
    "cursor = conexion.execute(\"SELECT text FROM nueva_tabla WHERE num = 2;\")\n",
    "print(cursor.fetchall())\n",
    "del cursor\n",
    "\n",
    "# Actualización\n",
    "conexion.execute(\"UPDATE nueva_tabla SET text = 'UNO' WHERE num = 1;\")\n",
    "print(conexion.execute(\"SELECT * FROM nueva_tabla;\").fetchall())\n",
    "\n",
    "# Eliminación\n",
    "conexion.execute(\"DELETE FROM nueva_tabla WHERE num < 3;\")\n",
    "print(conexion.execute(\"SELECT * FROM nueva_tabla;\").fetchall())\n",
    "\n",
    "# Modificación de tabla\n",
    "conexion.execute(\"ALTER TABLE \\\"nueva_tabla\\\" ADD COLUMN float REAL DEFAULT 0.1;\")\n",
    "print(conexion.execute(\"SELECT * FROM nueva_tabla;\").fetchall())"
   ]
  },
  {
   "cell_type": "markdown",
   "id": "c20f9f56",
   "metadata": {},
   "source": [
    "#### SQLite"
   ]
  },
  {
   "cell_type": "markdown",
   "id": "0aaec9de",
   "metadata": {},
   "source": [
    "SQLite es una biblioteca de gestión de bases de datos de código abierto y en dominio público (no tiene licencia).\n",
    "Está dirigido a proveer a otros programas un almacén de datos estructurados confiable, con una gestión segura, rápida, con bajo consumo de recursos y con una buena oferta de caraterísticas.  Es el sistema de gestión de base de datos más usado por número de instalaciones (cientos de millones) y probablemente por número de proyectos, ya que se utiliza en teléfonos, navegadores, editores multimedia, aplicaciones de mensajería, dispositivos IoT, en instalaciones de PHP y Python.  Sin embargo, no es tan usado de sistemas que manejan cantidades de datos masivas ya que está diseñado para servir internamente dentro de las aplicaciones y no con un modelo cliente/servidor; las bases de datos se almacenan en archivos únicos con un formato estable y bien definido o en una región de memoria volátil, y frecuentemente se usa un archivo temporal de registro de operaciones durante el funcionamiento.  No requiere configuración previa.\n",
    "\n",
    "Los tipos en SQLite son dinámicos, por defecto, en el sentido de que permite almacenar datos de cualquier tipo en cualquier columna, donde los tipos solo sirven con carácter informativo y como heurística para conversiones de tipos.\n",
    "\n",
    "SQLite tiene soporte para:\n",
    "- Tipos de datos de longitud variable\n",
    "- Índices\n",
    "- Funciones (comunes, de fechas, agregadas, ventana, definidas por el usuario)\n",
    "- Transacciones serializables\n",
    "- Expresiones de tabla comunes (cláusula WITH)\n",
    "- Valores compuestos de fila\n",
    "- Columnas generadas\n",
    "- Claves foráneas (no validadas por defecto)\n",
    "- Comprobaciones de integridad (restricción CHECK)\n",
    "- Desencadenadores\n",
    "- Cláusula ON CONFLICT\n",
    "- Cláusula RETURNING\n",
    "- Extensiones:\n",
    "  - Manejo de datos en formato JSON\n",
    "  - Manejo de archivos CSV\n",
    "  - Manejo de archivos ZIP\n",
    "  - Búsquedas de texto completo\n",
    "  - Datos espaciales/geográficos\n",
    "  - Tipos DECIMAL\n",
    "  - Vectores (arrays)"
   ]
  },
  {
   "cell_type": "markdown",
   "id": "743cf0ed",
   "metadata": {},
   "source": [
    "#### PostgreSQL"
   ]
  },
  {
   "cell_type": "markdown",
   "id": "699e134c",
   "metadata": {},
   "source": [
    "PostgreSQL es un sistema de gestión de bases de datos objeto-relacional altamente avanzado, de código abierto, con licencia liberal.  Tiene una arquitectura tradicional cliente/servidor con soporte para una escalabilidad y concurrencia masivas, seguridad avanzada, replicación, tolerancia a fallas, gran extensibilidad.  PostgreSQL es una de las pocas bases de datos con un elevado nivel de cumplimiento del estándar SQL y tiene muchas extensiones integradas y cargables.  Se utiliza mucho en programas sofisticados de gestión empresarial, sitios web, redes sociales, instituciones científicas, entre otros.  Puede ser desplegado en centros de datos masivos, aunque no es tan minimalista como para ser usado optimamente en aplicaciones pequeñas como el caso de SQLite.\n",
    "\n",
    "PostgreSQL tiene soporte para trabajar con:\n",
    "- Tipos de datos de longitud variable\n",
    "- Índices de muchos tipos\n",
    "- Funciones (para tipos de datos, agregadas, ventana, definidas por el usuario en varios lenguajes procedurales)\n",
    "  - Funciones en SQL\n",
    "  - PL/pgSQL\n",
    "  - Tcl\n",
    "  - Perl\n",
    "  - Python\n",
    "  - C/C++\n",
    "- Transacciones con 3 niveles de aislamiento\n",
    "- Expresiones de tabla comunes (cláusula WITH)\n",
    "- Tipos compuestos\n",
    "- Enumeraciones\n",
    "- Columnas generadas\n",
    "- Claves foráneas (no validadas por defecto)\n",
    "- Comprobaciones de integridad (restricción CHECK)\n",
    "- Orígenes de datos externos\n",
    "- Desencadenadores\n",
    "- Cláusula ON CONFLICT\n",
    "- Cláusula RETURNING\n",
    "- Manejo de datos en formato JSON\n",
    "- Manejo de datos en formato XML\n",
    "- Búsquedas de texto completo\n",
    "- Vectores\n",
    "- Datos geométricos\n",
    "- Direcciones de red\n",
    "- UUID\n",
    "- Rangos\n",
    "- Tipos definidos por el usuario\n",
    "- Operadores definidos por el usuario\n",
    "- Bloqueos explícitos\n",
    "- Sentencia MERGE\n",
    "- Roles genéricos y seguridad, hasta a nivel de fila\n",
    "- Cifrado\n",
    "- Tablas temporales y no aseguradas\n",
    "- Gran soporte de localización\n",
    "- Consultas paralelas\n",
    "- Extensiones:\n",
    "  - Datos espaciales/geográficos\n",
    "  - Almacén de datos clave-valor\n",
    "  - Árbol jerárquico\n",
    "  - Más lenguajes procedurales"
   ]
  },
  {
   "cell_type": "markdown",
   "id": "58e2fc19",
   "metadata": {},
   "source": [
    "### No relacionales"
   ]
  },
  {
   "cell_type": "markdown",
   "id": "4c85f42a",
   "metadata": {},
   "source": [
    "Incluyen todos los sistemas que utilizan cualquier otro modelo de datos distinto del relacional; por ello también se les conoce como NoSQL, porque SQL es utilizado mayoritariamente en sistemas relacionales, mientras que éstos utilizan otros lenguajes o interfaces variados.  Los más comunes son los modelos de datos de clave-valor, de grafos, columnares y de documentos.  Aquí se presentan dos sistemas que utilizan modelos distintos."
   ]
  },
  {
   "cell_type": "markdown",
   "id": "33072105",
   "metadata": {},
   "source": [
    "#### Redis"
   ]
  },
  {
   "cell_type": "markdown",
   "id": "526dd2e0",
   "metadata": {},
   "source": [
    "Redis es un sistema de gestión de bases de datos con soporte para múltiples modelos de datos, pero con una arquitectura base de un modelo clave-valor.  La mayor parte de la base de datos gestionada por Redis se puede mantener en memoria volátil y las claves pueden ser secuencias binarias arbitrarias.  Los valores tienen tipos simples o estructurados como cadenas de bytes (o vectores), listas de cadenas, conjuntos ordenados y no ordenados, tablas hash, flujos, mapas de bits, campos de bits (vector de banderas), e índices geoespaciales; cada contenedor maneja cadenas de bytes como sus datos primitivos contenidos.  Unas extensiones comerciales provee datos JSON, series de tiempo y datos probabilísticos; el manejo de JSON le provee características de bases de datos de documentos.\n",
    "\n",
    "Redis está diseñado para tener una alta disponibilidad, alta eficiencia, velocidad de trabajo elevada y gran escalabilidad (especialmente de forma distribuida en varios servidores).  Los formatos semiestructurados y no estructurados (en comparación con los modelos relacionales) permiten un trabajo más flexible con la base de datos.  Redis puede ser usado tanto gratuitamente bajo ciertas condiciones como con licencias comerciales.\n",
    "\n",
    "Utiliza un lenguaje de consulta e inserción a modo de línea de comandos, así como interfaces para muchos lenguajes de programación.  Las operaciones básicas son obtener un valor por la clave, insertar o modificar un valor por su clave o eliminarlo por su clave.  Según el tipo de datos de los valores almacenados, también se pueden dar especificaciones de ruta adicionales para trabajar un un fragmento de un valor compuesto."
   ]
  },
  {
   "cell_type": "markdown",
   "id": "28b07aee",
   "metadata": {},
   "source": [
    "#### Cassandra"
   ]
  },
  {
   "cell_type": "markdown",
   "id": "924c3c2e",
   "metadata": {},
   "source": [
    "Cassandra, de Apache, es un sistema de gestión de bases de datos columnar.  Es un sistema distribuido sin maestros, lo que implica que las operaciones de modificación pueden ocurrir en cualquier nodo, que permite el trabajo con cantidades de datos masivas a través de la distribución de la carga entre distintos equipos, ofreciendo a su vez un alto nivel de redundancia y disponibilidad.  Además, los equipos informáticos no requieren ser tan sofisticados porque se puede almacenar solo una parte de la base de datos completa en cada nodo a través de estrategias de particionado.  Aunque por defecto prioriza la disponibilidad, de modo que siempre responda a toda consulta, se puede ajustar para dar más importancia a la consistencia (que la información leída sea la más actualizada), tomando un balance entre los dos factores como sistema distribuido.\n",
    "\n",
    "Utiliza un lenguaje de consultas específico muy parecido a SQL, llamado CQL (Cassandra Query Languaje), que difiere en los aspectos conceptuales correspondientes como la falta de uniones."
   ]
  },
  {
   "cell_type": "markdown",
   "id": "eb26e212",
   "metadata": {},
   "source": [
    "# Conceptos relacionados con gestión de bases de datos"
   ]
  },
  {
   "cell_type": "markdown",
   "id": "57b63b2c",
   "metadata": {},
   "source": [
    "## Transacciones ACID"
   ]
  },
  {
   "cell_type": "markdown",
   "id": "1ee3f93d",
   "metadata": {},
   "source": [
    "Muchos sistema de gestión de bases de datos trabajan con transacciones.  Una transacción es un conjunto de operaciones que se considera como una unidad, en el sentido de que ella debe tener éxito total o fallar por completo, no puede quedar a medias.  Eso implica que si se han realizado algunas operaciones en una transacción y luego ocurre una falla en la siguiente, el sistema debe ser capaz de revertir el efecto de las operaciones ya realizadas para devolver al sistema a un estado consistente.\n",
    "\n",
    "ACID, que son las siglas de atomicidad, consistencia, aislamiento (isolation) y durabilidad, son propiedades clave de un cierto modelo de transacciones, donde se deben garantizar estas condiciones."
   ]
  },
  {
   "cell_type": "markdown",
   "id": "437ccd9e",
   "metadata": {},
   "source": [
    "### Atomicidad"
   ]
  },
  {
   "cell_type": "markdown",
   "id": "a23316bf",
   "metadata": {},
   "source": [
    "Las transacciones deben tomarse como un todo, como se dijo.  Ellas ocurren por completo, o no ocurren; sus operaciones se completan todas exitosamente o ninguna surte efecto, no hay estados intermedios.  Esto debe ser así sin importar si el sistema sufre una falla de alimentación, si se detectan condiciones de error, etc.  Como consecuencia, con transacciones atómicas, los demás usuarios que manejen concurrentemente una base de datos no deben ver los cambios realizados por las transacciones de otros hasta que se completen.\n",
    "\n",
    "Un buen ejemplo sería el caso de una transacción bancaria, donde se debe debitar dinero de una cuenta y acreditar el monto a otra, pero en ningún caso se puede debitar sin luego acreditar al receptor o acreditar sin debitar también al emisor del pago."
   ]
  },
  {
   "cell_type": "markdown",
   "id": "b98ca28e",
   "metadata": {},
   "source": [
    "### Consistencia"
   ]
  },
  {
   "cell_type": "markdown",
   "id": "3482b59b",
   "metadata": {},
   "source": [
    "Las transacciones deben ser como transiciones de estado en el sistema de bases de datos, deben llevar siempre de un estado válido a otro.  Esto quiere decir que las condiciones impuestas sobre la validez de las referencias, de los datos pertenecientes a dominios con restricciones, de unicidad, entre otros, deben verificarse antes de que la transacción sea confirmada.  Dada una arquitectura de datos correcta, estos no pueden quedar corrompidos o inválidos de ninguna manera."
   ]
  },
  {
   "cell_type": "markdown",
   "id": "6b4eeaae",
   "metadata": {},
   "source": [
    "### Aislamiento"
   ]
  },
  {
   "cell_type": "markdown",
   "id": "7d50022e",
   "metadata": {},
   "source": [
    "Los efectos de las transacciones no confirmadas y terminadas no deben afectar el comportamiento y la percepción del estado del sistema de las demás transacciones en curso.  Aún más, según el nivel de aislamiento, podría requerirse un control de concurrencia tal que los efectos de las transacciones ejecutadas desordenadamente sean iguales que si se hubiesen ejecutado secuencialmente, una por una."
   ]
  },
  {
   "cell_type": "markdown",
   "id": "880a5d35",
   "metadata": {},
   "source": [
    "### Durabilidad"
   ]
  },
  {
   "cell_type": "markdown",
   "id": "8468c191",
   "metadata": {},
   "source": [
    "La durabilidad implica que para el momento de confirmación de las transacciones, las modificaciones realizadas a los datos ya se deben haber almacenado de forma permanente, de manera que las transacciones confirmadas se mantengan confirmadas sin importar si surgen fallas luego de su confirmación.  En ese sentido, las transacciones se consideran irreversibles o finalizadas confiablemente (exceptuando el uso de un sistema de control de versiones para volver a un estado anterior intencionalmente)."
   ]
  },
  {
   "cell_type": "markdown",
   "id": "ad51f12d",
   "metadata": {},
   "source": [
    "## Asignación objeto-relacional"
   ]
  },
  {
   "cell_type": "markdown",
   "id": "8b341d70",
   "metadata": {},
   "source": [
    "Es una técnica de programación usada con lenguajes orientados a objetos donde una biblioteca o conjunto de funciones \"traducen\" el modelo relacional de las bases de datos al modelo orientado a objetos de las estructuras de datos trabajadas en el lenguaje en cuestión, y viceversa.  Las tablas se corresponden con clases, las filas con objetos, las claves foráneas con referencias o punteros, de forma que las relaciones se puedan tratar directamente con conceptos orientados a objetos y funciones del lenguaje de programación, evitando el uso directo de SQL o lenguajes similares para comunicarse con el sistema de gestión de bases de datos.\n",
    "\n",
    "Por ejemplo, podría ser posible construir un objeto correspondiente a una tabla, asignarle valores a sus atributos y luego solicitar que se guarde el objeto en la base de datos.  Eso automáticamente haría algo como lo siguiente, internamente:\n",
    "\n",
    "    persona = new Persona()\n",
    "    persona.nombre = \"Juan\"\n",
    "    persona.edad = 33\n",
    "    persona.guardar()\n",
    "    \n",
    "    ---------------------------\n",
    "    \n",
    "    INSERT INTO Persona (nombre, edad) VALUES (\"Juan\", 33);"
   ]
  },
  {
   "cell_type": "markdown",
   "id": "b9bdecdf",
   "metadata": {},
   "source": [
    "## Índices"
   ]
  },
  {
   "cell_type": "markdown",
   "id": "b81e1393",
   "metadata": {},
   "source": [
    "En los sistemas de gestión de bases de datos, los índices se utilizan para acceder a los datos de una forma más rápida que una lectura secuencial en busca de un dato particular, con el uso de estructuras de datos especializadas.\n",
    "\n",
    "Por ejemplo, si la edad de una persona es un atributo por el que se suele hacer búsquedas o filtrados de los registros de personas en una tabla, en lugar de buscar secuencialmente una persona por su edad o las que tengan una edad mayor de cierto valor, puede ser mucho más optimo crear un árbol binario con las edades de cada persona y una referencia física a la ubicación de la fila de la persona con dicha edad en cada nodo y luego hacer las búquedas a través del árbol.  Si la tabla tenía 1000 registros pero solo 5 personas cumplieron con el criterio de búsqueda, en lugar de recorrer los 1000 registros, se pueden recorrer subárboles del índice que cumplan con los criterios y con muchos menos elementos y hallar las 5 personas más rápido.\n",
    "\n",
    "Es importante resaltar que los índices no siempre son una solución óptima.  Si todos los registros hubiesen cumplido con la condición, habría sido mejor leerlos secuencialmente que tener que recorrer las referencias de los nodos del árbol."
   ]
  },
  {
   "cell_type": "markdown",
   "id": "baf3651d",
   "metadata": {},
   "source": [
    "## Fragmentación"
   ]
  },
  {
   "cell_type": "markdown",
   "id": "b1e585a4",
   "metadata": {},
   "source": [
    "Más allá de la replicación simple, que permite tener varias copias de respaldo de la base de datos en diferentes máquinas/lugares para mayor seguridad y disponibilidad, las réplicas no tienen que ser completas, sino que con fines de economía es útil que existan varias instancias de copias parciales entre muchas computadoras, de modo que entre todo el sistema de mantengan varias copias de los datos pero los dispositivos individuales no tengan que almacenar toda la base de datos completa por sí solos.  Esto permite una mayor economía y hace posible el emplear equipos menos sofisticados para formar redes más grandes y distribuidas, con mayor disponibilidad, factiblemente."
   ]
  }
 ],
 "metadata": {
  "kernelspec": {
   "display_name": "Python 3 (ipykernel)",
   "language": "python",
   "name": "python3"
  },
  "language_info": {
   "codemirror_mode": {
    "name": "ipython",
    "version": 3
   },
   "file_extension": ".py",
   "mimetype": "text/x-python",
   "name": "python",
   "nbconvert_exporter": "python",
   "pygments_lexer": "ipython3",
   "version": "3.13.2"
  }
 },
 "nbformat": 4,
 "nbformat_minor": 5
}
